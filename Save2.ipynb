{
 "cells": [
  {
   "cell_type": "code",
   "execution_count": 26,
   "metadata": {
    "collapsed": true
   },
   "outputs": [],
   "source": [
    "import pandas as pd"
   ]
  },
  {
   "cell_type": "code",
   "execution_count": 27,
   "metadata": {
    "collapsed": true
   },
   "outputs": [],
   "source": [
    "df_pitch_subs = pd.read_csv('pitching_subs.csv')"
   ]
  },
  {
   "cell_type": "code",
   "execution_count": 28,
   "metadata": {},
   "outputs": [],
   "source": [
    "df_pitch_subs['made_save'] = None\n",
    "df_next_pitcher = df_pitch_subs.shift(-1).reset_index()\n",
    "\n",
    "# Our csv already tells us which pitcher gets the save, so we will leave that calculation to the scorer\n",
    "# Need to check if any relief pitchers either blow,or neither get a S/BS\n",
    "# For now, let's just see if they blow it based on the state of the game when they come in, and get pulled/end of game\n",
    "# We know that if they come in with a lead, and leave with the game tied/losing, they blew it\n",
    "for (cur_index, cur_row), (_, next_row) in zip(df_pitch_subs.iterrows(), df_next_pitcher.iterrows()):\n",
    "    # made_save will be True(completed save), False(blew save), or None(neither completed or blew)\\\n",
    "    # default value for a made_save is None\n",
    "    made_save = None\n",
    "    \n",
    "    # We will check the state of the game when the pitcher came in (cur_row)\n",
    "    # as well as the state of the game with the pitcher stopped pitching (next_row)\n",
    "    \n",
    "    # Make sure next event is the same game, and the same team\n",
    "    if cur_row['GAME_ID'] == next_row['GAME_ID'] and cur_row['HOME_TEAM'] == next_row['HOME_TEAM']:\n",
    "        # home\n",
    "        if cur_row['HOME_TEAM'] == 1:\n",
    "            # blew lead if winning in initial state, and losing in their last state\n",
    "            blew_lead = next_row['HOME_SCORE_CT'] <= next_row['AWAY_SCORE_CT']\n",
    "            if blew_lead:\n",
    "                # Definition of Save\n",
    "                #1 He enters the game with a lead of no more than three runs and pitches for at least one inning\n",
    "                #2 He enters the game, regardless of the count, with the potential tying run either on base, at bat or on deck\n",
    "                #3 He pitches for at least three innings.\n",
    "                inn_diff = next_row['INN_CT'] - cur_row['INN_CT']\n",
    "                init_score_diff = cur_row['HOME_SCORE_CT'] - cur_row['AWAY_SCORE_CT']\n",
    "                \n",
    "                # Save #1 or #2 or #3\n",
    "                if (init_score_diff <= 3 and inn_diff >= 1) or (inn_diff >= 3) or (cur_row['HOME_SCORE_CT'] <= cur_row['AWAY_SCORE_CT'] + 2 + sum([cur_row['onFirst'], cur_row['onSecond'], cur_row['onThird']])):\n",
    "                    made_save = False     \n",
    "        #away\n",
    "        elif cur_row['HOME_TEAM'] == 0:\n",
    "            # blew lead if winning in initial state, and losing in their last state\n",
    "            blew_lead = next_row['HOME_SCORE_CT'] >= next_row['AWAY_SCORE_CT']\n",
    "            if blew_lead:\n",
    "                inn_diff = next_row['INN_CT'] - cur_row['INN_CT']\n",
    "                init_score_diff = cur_row['AWAY_SCORE_CT'] - cur_row['HOME_SCORE_CT']\n",
    "                \n",
    "                # Save #1 or #2 or #3\n",
    "                if (init_score_diff <= 3 and inn_diff >= 1) or (inn_diff >= 3) or (cur_row['AWAY_SCORE_CT'] <= cur_row['HOME_SCORE_CT'] + 2 + sum([cur_row['onFirst'], cur_row['onSecond'], cur_row['onThird']])):\n",
    "                    made_save = False\n",
    "    \n",
    "    # Use Retrosheet to determine if this pitcher was the one who got a save\n",
    "    elif cur_row['PIT_ID'] == cur_row['SAVE_PIT_ID']:\n",
    "            made_save = True\n",
    "               \n",
    "    # place made_save into the dataframe at the correct index\n",
    "    df_pitch_subs.iloc[cur_index, df_pitch_subs.columns.get_loc('made_save')] = made_save\n",
    "    \n"
   ]
  },
  {
   "cell_type": "code",
   "execution_count": 29,
   "metadata": {},
   "outputs": [],
   "source": [
    "# We already know if a pitcher lost a lead when, but we dont know if they were even entering into a save opportunity\n",
    "# A Save Opportunity (SvO) happens when a relief pitcher enters the game with a lead\n",
    "# Above, we didnt check to make sure they were in the lead when they entered the game\n",
    "def save_sit(row):\n",
    "    if row['HOME_TEAM'] == 1 and row['HOME_SCORE_CT'] > row['AWAY_SCORE_CT']:\n",
    "        return True\n",
    "    elif row['HOME_TEAM'] == 0 and row['HOME_SCORE_CT'] < row['AWAY_SCORE_CT']:\n",
    "        return True\n",
    "    else:\n",
    "        return False\n",
    "df_pitch_subs['SAVE_SIT'] = df_pitch_subs.apply(save_sit, axis=1)\n",
    "\n",
    "# Now we know if a pitcher entered into a SvO, so let's disregard all the pitchers who didn't\n",
    "df_pitch_subs = df_pitch_subs[df_pitch_subs['SAVE_SIT'] == True].reset_index()\n",
    "\n",
    "# Now that we know that all these pitchers are in SvOs and who got the save, we can drop some data that we don't need\n",
    "df_pitch_subs.drop(['SAVE_PIT_ID', 'SAVE_SIT'], axis=1, inplace=True)"
   ]
  },
  {
   "cell_type": "code",
   "execution_count": 35,
   "metadata": {},
   "outputs": [],
   "source": [
    "# Final data frame\n",
    "df_saves = df_pitch_subs.copy()"
   ]
  },
  {
   "cell_type": "code",
   "execution_count": 37,
   "metadata": {},
   "outputs": [
    {
     "name": "stdout",
     "output_type": "stream",
     "text": [
      "<class 'pandas.core.frame.DataFrame'>\n",
      "RangeIndex: 23180 entries, 0 to 23179\n",
      "Data columns (total 13 columns):\n",
      "index            23180 non-null int64\n",
      "GAME_ID          23180 non-null object\n",
      "PIT_ID           23180 non-null object\n",
      "INN_CT           23180 non-null int64\n",
      "HOME_TEAM        23180 non-null int64\n",
      "OUTS_CT          23180 non-null int64\n",
      "AWAY_SCORE_CT    23180 non-null int64\n",
      "HOME_SCORE_CT    23180 non-null int64\n",
      "onFirst          23180 non-null int64\n",
      "onSecond         23180 non-null int64\n",
      "onThird          23180 non-null int64\n",
      "FULL_NAME        23180 non-null object\n",
      "made_save        1584 non-null object\n",
      "dtypes: int64(9), object(4)\n",
      "memory usage: 2.3+ MB\n"
     ]
    }
   ],
   "source": [
    "df_saves.info()"
   ]
  },
  {
   "cell_type": "code",
   "execution_count": null,
   "metadata": {
    "collapsed": true
   },
   "outputs": [],
   "source": []
  }
 ],
 "metadata": {
  "kernelspec": {
   "display_name": "Python 3",
   "language": "python",
   "name": "python3"
  },
  "language_info": {
   "codemirror_mode": {
    "name": "ipython",
    "version": 3
   },
   "file_extension": ".py",
   "mimetype": "text/x-python",
   "name": "python",
   "nbconvert_exporter": "python",
   "pygments_lexer": "ipython3",
   "version": "3.6.1"
  }
 },
 "nbformat": 4,
 "nbformat_minor": 2
}
