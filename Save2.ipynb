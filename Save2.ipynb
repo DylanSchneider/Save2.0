{
 "cells": [
  {
   "cell_type": "code",
   "execution_count": null,
   "metadata": {
    "collapsed": true
   },
   "outputs": [],
   "source": [
    "import pandas as pd\n",
    "import numpy as np\n",
    "import math"
   ]
  },
  {
   "cell_type": "code",
   "execution_count": null,
   "metadata": {},
   "outputs": [],
   "source": [
    "df_pitch_subs = pd.read_csv('pitching_subs.csv')\n",
    "df_pitch_subs.head()"
   ]
  },
  {
   "cell_type": "code",
   "execution_count": null,
   "metadata": {},
   "outputs": [],
   "source": [
    "def save_sit(row):\n",
    "    if row['BAT_HOME_ID'] == 0 and row['HOME_SCORE_CT'] > row['AWAY_SCORE_CT']:\n",
    "        return True\n",
    "    elif row['BAT_HOME_ID'] == 1 and row['HOME_SCORE_CT'] < row['AWAY_SCORE_CT']:\n",
    "        return True\n",
    "    else:\n",
    "        return False\n",
    "\n",
    "df_pitch_subs['SAVE_SIT'] = df_pitch_subs.apply(save_sit, axis=1)"
   ]
  },
  {
   "cell_type": "code",
   "execution_count": null,
   "metadata": {},
   "outputs": [],
   "source": [
    "df_pitch_subs[['GAME_ID', 'PIT_ID', 'INN_CT', 'BAT_HOME_ID', 'AWAY_SCORE_CT', 'HOME_SCORE_CT', 'SAVE_PIT_ID', 'SAVE_SIT']].head(100)"
   ]
  },
  {
   "cell_type": "code",
   "execution_count": null,
   "metadata": {},
   "outputs": [],
   "source": [
    "df_pitch_subs = df_pitch_subs[df_pitch_subs['SAVE_SIT'] == True].reset_index()"
   ]
  },
  {
   "cell_type": "code",
   "execution_count": null,
   "metadata": {},
   "outputs": [],
   "source": [
    "df_pitch_subs[['GAME_ID', 'PIT_ID', 'INN_CT', 'BAT_HOME_ID', 'AWAY_SCORE_CT', 'HOME_SCORE_CT', 'SAVE_PIT_ID', 'SAVE_SIT']].head(10)"
   ]
  },
  {
   "cell_type": "code",
   "execution_count": null,
   "metadata": {},
   "outputs": [],
   "source": [
    "df_next_pitcher = df_pitch_subs.shift(-1).reset_index()\n",
    "df_next_pitcher[['GAME_ID', 'PIT_ID', 'INN_CT', 'BAT_HOME_ID', 'AWAY_SCORE_CT', 'HOME_SCORE_CT', 'SAVE_PIT_ID', 'SAVE_SIT']].head(100)"
   ]
  },
  {
   "cell_type": "code",
   "execution_count": null,
   "metadata": {},
   "outputs": [],
   "source": [
    "df_pitch_subs['made_save'] = None\n",
    "df_pitch_subs.head()"
   ]
  },
  {
   "cell_type": "code",
   "execution_count": null,
   "metadata": {},
   "outputs": [],
   "source": [
    "print(len(df_pitch_subs))\n",
    "print(len(df_next_pitcher))\n",
    "for t1, t2 in zip(df_pitch_subs.iterrows(), df_next_pitcher.iterrows()):\n",
    "    cur_index = t1[0]\n",
    "    cur_row = t1[1]\n",
    "    next_row = t2[1]\n",
    "    made_save = None\n",
    "    \n",
    "    if cur_row['GAME_ID'] == next_row['GAME_ID'] and cur_row['BAT_HOME_ID'] == next_row['BAT_HOME_ID']:\n",
    "        # in same game, and same team.\n",
    "        if cur_row['BAT_HOME_ID'] == 0:\n",
    "            # home team\n",
    "            blew_lead = next_row['HOME_SCORE_CT'] <= next_row['AWAY_SCORE_CT']\n",
    "            if blew_lead:\n",
    "                print('H1')\n",
    "                inn_diff = next_row['INN_CT'] - cur_row['INN_CT']\n",
    "                init_score_diff = cur_row['HOME_SCORE_CT'] - cur_row['AWAY_SCORE_CT']\n",
    "                \n",
    "                if (init_score_diff <= 3 and inn_diff >= 1) or (inn_diff >= 3) or (cur_row['HOME_SCORE_CT'] <= cur_row['AWAY_SCORE_CT'] + 2 + sum([cur_row['onFirst'], cur_row['onSecond'], cur_row['onThird']])):\n",
    "                    made_save = False\n",
    "                \n",
    "            \n",
    "        elif cur_row['BAT_HOME_ID'] == 1:\n",
    "            # away team\n",
    "            blew_lead = next_row['HOME_SCORE_CT'] >= next_row['AWAY_SCORE_CT']\n",
    "            if blew_lead:\n",
    "                print('H2')\n",
    "                inn_diff = next_row['INN_CT'] - cur_row['INN_CT']\n",
    "                init_score_diff = cur_row['AWAY_SCORE_CT'] - cur_row['HOME_SCORE_CT']\n",
    "                \n",
    "                if (init_score_diff <= 3 and inn_diff >= 1) or (inn_diff >= 3) or (cur_row['AWAY_SCORE_CT'] <= cur_row['HOME_SCORE_CT'] + 2 + sum([cur_row['onFirst'], cur_row['onSecond'], cur_row['onThird']])):\n",
    "                    made_save = False\n",
    "    \n",
    "    \n",
    "    elif cur_row['PIT_ID'] == cur_row['SAVE_PIT_ID']:\n",
    "            made_save = True\n",
    "               \n",
    "\n",
    "    df_pitch_subs.iloc[cur_index, df_pitch_subs.columns.get_loc('made_save')] = made_save\n",
    "    \n",
    "    \n",
    "df_pitch_subs.head(50)"
   ]
  },
  {
   "cell_type": "code",
   "execution_count": null,
   "metadata": {},
   "outputs": [],
   "source": [
    "df_blown_save = df_pitch_subs[df_pitch_subs['made_save'] == False]\n",
    "df_blown_save.head()"
   ]
  },
  {
   "cell_type": "code",
   "execution_count": null,
   "metadata": {
    "collapsed": true
   },
   "outputs": [],
   "source": []
  }
 ],
 "metadata": {
  "kernelspec": {
   "display_name": "Python 3",
   "language": "python",
   "name": "python3"
  },
  "language_info": {
   "codemirror_mode": {
    "name": "ipython",
    "version": 3
   },
   "file_extension": ".py",
   "mimetype": "text/x-python",
   "name": "python",
   "nbconvert_exporter": "python",
   "pygments_lexer": "ipython3",
   "version": "3.6.1"
  }
 },
 "nbformat": 4,
 "nbformat_minor": 2
}
